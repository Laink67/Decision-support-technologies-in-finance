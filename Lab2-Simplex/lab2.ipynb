{
 "cells": [
  {
   "cell_type": "code",
   "execution_count": 234,
   "metadata": {},
   "outputs": [],
   "source": [
    "import numpy as np\n",
    "import copy\n",
    "import pandas as pd"
   ]
  },
  {
   "cell_type": "markdown",
   "metadata": {},
   "source": [
    "`target_vars` - coefficients of target function\n",
    "\n",
    "`target_q` - free number of targer function\n",
    "\n",
    "`target_direction` - min or max of targer function\n",
    "\n",
    "`const_a` - matrix of coefficients in constrains\n",
    "\n",
    "`const_b` - matrix of right part of constraints"
   ]
  },
  {
   "cell_type": "code",
   "execution_count": 226,
   "metadata": {},
   "outputs": [],
   "source": [
    "class SimplexTable:\n",
    "    def __init__(self, target_vars, target_q, target_direction, const_a, const_b):\n",
    "        # top\n",
    "        self.inds_free_vars = np.arange(target_vars.shape[0])\n",
    "        # left\n",
    "        self.inds_basis_vars = np.arange(self.inds_free_vars[-1] + 1, self.inds_free_vars[-1] + 1 + const_b.shape[0])\n",
    "\n",
    "        if(target_direction == 'max'):\n",
    "            target_vars *= -1\n",
    "            target_q *= -1\n",
    "\n",
    "        # bottom\n",
    "        self.c = target_vars\n",
    "        # right\n",
    "        self.b = const_b\n",
    "        # center\n",
    "        self.a = const_a\n",
    "\n",
    "        # -Q\n",
    "        self.cur_F = -target_q\n",
    "        \n",
    "    def recalculate_table(self, selected_row, selected_column):\n",
    "        # Копии элементов\n",
    "        prev_a = copy.deepcopy(self.a)\n",
    "        prev_c = copy.deepcopy(self.c)\n",
    "        prev_b = copy.deepcopy(self.b)\n",
    "        \n",
    "        # Разрешающий элемент\n",
    "        selected_a = self.a[selected_row, selected_column]\n",
    "        # Меняем разрешающую строку\n",
    "        self.a[selected_row] /= selected_a\n",
    "        self.b[selected_row] /= selected_a\n",
    "        # Меняем разрешающий столбец\n",
    "        self.c[selected_column] /= -selected_a\n",
    "        self.a[:, selected_column] = [prev_a[i, selected_column]/-selected_a  if i != selected_row else prev_a[i, selected_column] for i in range(prev_a.shape[0])]\n",
    "            \n",
    "        # Меняем остальные элементы\n",
    "        for i in range(prev_a.shape[0]):\n",
    "            if(i == selected_row):\n",
    "                continue\n",
    "            # Меняем b\n",
    "            self.b[i] -= prev_b[selected_row] * prev_a[i, selected_column] / selected_a\n",
    "            for j in range(prev_a.shape[1]):\n",
    "                if(j == selected_column):\n",
    "                    continue\n",
    "                self.a[i, j] -= prev_a[selected_row, j] * prev_a[i, selected_column] / selected_a\n",
    "                \n",
    "        # Меняем коэффициенты целевой функции (с)\n",
    "        for j in range(prev_a.shape[1]):\n",
    "                if(j == selected_column):\n",
    "                    continue\n",
    "                self.c[j] -= prev_a[selected_row, j] * prev_c[selected_column] / selected_a\n",
    "                \n",
    "        # Меняем cur_F\n",
    "        self.cur_F -= prev_b[selected_row] * prev_c[selected_column] / selected_a\n",
    "        \n",
    "        # Переносим разрещающий столбец в базис, разрещаю строку в свободные перменные\n",
    "        self.inds_basis_vars[selected_row], self.inds_free_vars[selected_column] = self.inds_free_vars[selected_column], self.inds_basis_vars[selected_row]\n",
    "        \n",
    "    def answer(self):\n",
    "        xs = np.zeros((1, self.inds_free_vars.shape[0] + self.inds_basis_vars.shape[0]))[0]\n",
    "        \n",
    "        for ind_bas, cur_b in zip(self.inds_basis_vars, self.b):\n",
    "            xs[ind_bas] = cur_b\n",
    "        \n",
    "        return xs, -self.cur_F"
   ]
  },
  {
   "cell_type": "code",
   "execution_count": 227,
   "metadata": {},
   "outputs": [],
   "source": [
    "target_vars = np.array([3, -2, 4], dtype=np.float32)\n",
    "target_q = 22\n",
    "target_dir = 'max'\n",
    "const_a = np.array([[1, 1, 3],\n",
    "                    [2, 4, 0],\n",
    "                    [1, 2, 0]], dtype=np.float32)\n",
    "const_b = np.array([12, 14, 6], dtype=np.float32)"
   ]
  },
  {
   "cell_type": "code",
   "execution_count": 228,
   "metadata": {},
   "outputs": [],
   "source": [
    "def check_optim(c):\n",
    "    return (c >= 0).all()\n",
    "\n",
    "def select_column(c):\n",
    "    return np.argmin(c)\n",
    "\n",
    "def select_row(selected_column, b, a):\n",
    "    arr = [b[i] / a[i, selected_column] if a[i, selected_column] != 0 else np.inf for i in range(b.shape[0])]\n",
    "    return np.argmin(arr)"
   ]
  },
  {
   "cell_type": "code",
   "execution_count": 229,
   "metadata": {},
   "outputs": [
    {
     "data": {
      "text/plain": [
       "(array([6., 0., 2., 0., 2., 0.]), -48.0)"
      ]
     },
     "execution_count": 229,
     "metadata": {},
     "output_type": "execute_result"
    }
   ],
   "source": [
    "iter_limit = 10000\n",
    "cur_iter = 0\n",
    "\n",
    "st = SimplexTable(target_vars, target_q, target_dir, const_a, const_b)\n",
    "\n",
    "while cur_iter < iter_limit and check_optim(st.c)==False:\n",
    "    selected_column = select_column(st.c) # разрешающий столбец\n",
    "    selected_row = select_row(selected_column, st.b, st.a) # разрешающая строка\n",
    "    \n",
    "    st.recalculate_table(selected_row, selected_column)\n",
    "    cur_iter += 1\n",
    "\n",
    "answer = st.answer()\n",
    "answer"
   ]
  },
  {
   "cell_type": "markdown",
   "metadata": {},
   "source": [
    "### Simplex table"
   ]
  },
  {
   "cell_type": "code",
   "execution_count": 258,
   "metadata": {},
   "outputs": [
    {
     "data": {
      "text/html": [
       "<div>\n",
       "<style scoped>\n",
       "    .dataframe tbody tr th:only-of-type {\n",
       "        vertical-align: middle;\n",
       "    }\n",
       "\n",
       "    .dataframe tbody tr th {\n",
       "        vertical-align: top;\n",
       "    }\n",
       "\n",
       "    .dataframe thead th {\n",
       "        text-align: right;\n",
       "    }\n",
       "</style>\n",
       "<table border=\"1\" class=\"dataframe\">\n",
       "  <thead>\n",
       "    <tr style=\"text-align: right;\">\n",
       "      <th></th>\n",
       "      <th>5</th>\n",
       "      <th>1</th>\n",
       "      <th>3</th>\n",
       "      <th>b/W*</th>\n",
       "    </tr>\n",
       "  </thead>\n",
       "  <tbody>\n",
       "    <tr>\n",
       "      <th>2</th>\n",
       "      <td>-0.333333</td>\n",
       "      <td>-0.333333</td>\n",
       "      <td>3.000000</td>\n",
       "      <td>2.0</td>\n",
       "    </tr>\n",
       "    <tr>\n",
       "      <th>4</th>\n",
       "      <td>-2.000000</td>\n",
       "      <td>0.000000</td>\n",
       "      <td>0.000000</td>\n",
       "      <td>2.0</td>\n",
       "    </tr>\n",
       "    <tr>\n",
       "      <th>0</th>\n",
       "      <td>1.000000</td>\n",
       "      <td>2.000000</td>\n",
       "      <td>-0.000000</td>\n",
       "      <td>6.0</td>\n",
       "    </tr>\n",
       "    <tr>\n",
       "      <th>c/W*</th>\n",
       "      <td>1.666667</td>\n",
       "      <td>6.666667</td>\n",
       "      <td>1.333333</td>\n",
       "      <td>48.0</td>\n",
       "    </tr>\n",
       "  </tbody>\n",
       "</table>\n",
       "</div>"
      ],
      "text/plain": [
       "             5         1         3  b/W*\n",
       "2    -0.333333 -0.333333  3.000000   2.0\n",
       "4    -2.000000  0.000000  0.000000   2.0\n",
       "0     1.000000  2.000000 -0.000000   6.0\n",
       "c/W*  1.666667  6.666667  1.333333  48.0"
      ]
     },
     "execution_count": 258,
     "metadata": {},
     "output_type": "execute_result"
    }
   ],
   "source": [
    "simp_table = pd.DataFrame(index=st.inds_basis_vars, columns=st.inds_free_vars).fillna(0)\n",
    "columns = simp_table.columns.values\n",
    "\n",
    "for i in range(columns.shape[0]):\n",
    "    simp_table[columns[i]] = st.a[:, i]\n",
    "\n",
    "simp_table.loc['c/W*'] = st.c\n",
    "simp_table['b/W*'] = np.append(st.b, st.cur_F)\n",
    "simp_table"
   ]
  }
 ],
 "metadata": {
  "kernelspec": {
   "display_name": "Python 3",
   "language": "python",
   "name": "python3"
  },
  "language_info": {
   "codemirror_mode": {
    "name": "ipython",
    "version": 3
   },
   "file_extension": ".py",
   "mimetype": "text/x-python",
   "name": "python",
   "nbconvert_exporter": "python",
   "pygments_lexer": "ipython3",
   "version": "3.8.5"
  }
 },
 "nbformat": 4,
 "nbformat_minor": 4
}
