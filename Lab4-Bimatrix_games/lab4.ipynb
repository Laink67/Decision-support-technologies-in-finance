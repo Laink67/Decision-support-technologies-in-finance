{
 "cells": [
  {
   "cell_type": "code",
   "execution_count": 2,
   "metadata": {},
   "outputs": [],
   "source": [
    "import pandas as pd\n",
    "import numpy as np\n",
    "from pulp import LpMaximize,LpMinimize, LpProblem, LpStatus, lpSum, LpVariable"
   ]
  },
  {
   "cell_type": "code",
   "execution_count": 55,
   "metadata": {},
   "outputs": [],
   "source": [
    "def solve(A):\n",
    "    max_min = np.max(np.min(A, axis=1))\n",
    "    min_max = np.min(np.max(A, axis=0))\n",
    "    \n",
    "    if max_min==min_max:\n",
    "        i_best = np.argmax(np.min(A, axis=1))\n",
    "        j_best = np.argmin(np.max(A, axis=0))\n",
    "        return i_best, j_best, min_max\n",
    "    \n",
    "    # a must be > 0\n",
    "    alpha = np.min(A)\n",
    "    if alpha <= 0:\n",
    "        A += -alpha + 1\n",
    "        \n",
    "    # LP1\n",
    "    u_dict = LpVariable.dicts(\"u\", range(A.shape[0]), lowBound=0)\n",
    "    model = LpProblem(name=\"First\", sense=LpMinimize)\n",
    "    obj = lpSum(u_dict)\n",
    "    \n",
    "    model += obj\n",
    "    \n",
    "    # constraints\n",
    "    for j in range(A.shape[1]):\n",
    "        cur_const = [A[i, j] * u_dict[i] for i in range(A.shape[0])]\n",
    "        model += lpSum(cur_const) >= 1\n",
    "    \n",
    "    status = model.solve()\n",
    "    print(f'First:')\n",
    "    print(f'status = {LpStatus[status]}')\n",
    "    print(f'Objective = {model.objective.value()}', end='\\n\\n')\n",
    "    \n",
    "    u_vars = np.array([])\n",
    "    for var in model.variables():\n",
    "        u_vars = np.append(u_vars, var.value())\n",
    "        print(f'{var.name}: {var.value()}')\n",
    "    print('\\n')\n",
    "    \n",
    "    # LP2\n",
    "    v_dict = LpVariable.dicts(\"v\", range(A.shape[1]), lowBound=0)\n",
    "    model = LpProblem(name=\"Second\", sense=LpMaximize)\n",
    "    obj = lpSum(v_dict)\n",
    "    \n",
    "    model += obj\n",
    "    \n",
    "    # constraints\n",
    "    for i in range(A.shape[0]):\n",
    "        cur_const = [A[i, j] * v_dict[j] for j in range(A.shape[1])]\n",
    "        model += lpSum(cur_const) <= 1\n",
    "    \n",
    "    status = model.solve()\n",
    "    print(f'Second:')\n",
    "    print(f'status = {LpStatus[status]}')\n",
    "    print(f'Objective = {model.objective.value()}', end='\\n\\n')\n",
    "    opt_solve = model.objective.value()\n",
    "    \n",
    "    v_vars = np.array([])\n",
    "    for var in model.variables():\n",
    "        v_vars = np.append(v_vars, var.value())\n",
    "        print(f'{var.name}: {var.value()}')\n",
    "    \n",
    "    I = 1 / opt_solve\n",
    "    u_vars *= I\n",
    "    v_vars *= I\n",
    "    \n",
    "    return u_vars, v_vars, I"
   ]
  },
  {
   "cell_type": "code",
   "execution_count": 56,
   "metadata": {},
   "outputs": [
    {
     "name": "stdout",
     "output_type": "stream",
     "text": [
      "First:\n",
      "status = Optimal\n",
      "Objective = 0.28571428\n",
      "\n",
      "u_0: 0.14285714\n",
      "u_1: 0.14285714\n",
      "u_2: 0.0\n",
      "\n",
      "\n",
      "Second:\n",
      "status = Optimal\n",
      "Objective = 0.28571428099999996\n",
      "\n",
      "v_0: 0.21428571\n",
      "v_1: 0.0\n",
      "v_2: 0.0\n",
      "v_3: 0.071428571\n"
     ]
    },
    {
     "data": {
      "text/plain": [
       "(array([0.5, 0.5, 0. ]), array([0.75, 0.  , 0.  , 0.25]), 3.5000000577500017)"
      ]
     },
     "execution_count": 56,
     "metadata": {},
     "output_type": "execute_result"
    }
   ],
   "source": [
    "A = np.array([[4, 3, 4, 2],\n",
    "             [3, 4, 6, 5],\n",
    "             [2, 5, 1, 3]])\n",
    "\n",
    "solve(A)"
   ]
  },
  {
   "attachments": {
    "image.png": {
     "image/png": "[encoded data removed]"
    }
   },
   "cell_type": "markdown",
   "metadata": {},
   "source": [
    "# Пример\n",
    "\n",
    "Предприниматель располагает тремя видами товаров: А1, А2, А3, которые он стремится реализовать на рынке, где возможна продажа конкурентом аналогичных товаров:  В1, В2, В3, соответственно. Предпринимателю не известно, какой вид товаров  преимущественно конкурент будет продавать на рынке, а конкуренту не известно, какие товары предпринимателя на этом рынке появятся. Предприниматель располагает данными о том, какова  вероятность продать тот или иной товар при наличии на рынке товаров конкурента. Эти данные образуют матрицу игры (таблица 1). Необходимо дать предпринимателю рекомендации по  рациональному выбору вида товаров для продвижения их на рынок в условиях конкуренции, при котором обеспечивается получение наилучшего возможного результата - наибольшей вероятности продаж, что бы ни предпринимал конкурент.\n",
    "\n",
    "![image.png](attachment:image.png) "
   ]
  },
  {
   "cell_type": "code",
   "execution_count": 57,
   "metadata": {},
   "outputs": [
    {
     "name": "stdout",
     "output_type": "stream",
     "text": [
      "First:\n",
      "status = Optimal\n",
      "Objective = 0.67567568\n",
      "\n",
      "u_0: 0.0\n",
      "u_1: 0.36036036\n",
      "u_2: 0.31531532\n",
      "\n",
      "\n",
      "Second:\n",
      "status = Optimal\n",
      "Objective = 0.67567568\n",
      "\n",
      "v_0: 0.40540541\n",
      "v_1: 0.27027027\n",
      "v_2: 0.0\n"
     ]
    },
    {
     "data": {
      "text/plain": [
       "(array([0.        , 0.53333333, 0.46666667]),\n",
       " array([0.6, 0.4, 0. ]),\n",
       " 1.4799999905280001)"
      ]
     },
     "execution_count": 57,
     "metadata": {},
     "output_type": "execute_result"
    }
   ],
   "source": [
    "A = np.array([[0.5, 0.4, 0.9],\n",
    "             [0.2, 0.9, 0.1],\n",
    "             [0.8, 0, 1]])\n",
    "\n",
    "solve(A)"
   ]
  },
  {
   "cell_type": "markdown",
   "metadata": {},
   "source": [
    "Решение заключается в том, что необходимо  систематически применять максиминную стратегию - товар типа А1. При этом предпринимателю гарантируется результат не менее p = 0,4, что бы ни предпринимал конкурент (его замыслы нам не известны). Для конкурента наилучшая стратегия - выбор товара вида В1; при этом он гарантирует себе результат не более p = 0,8 (чем прибыль предпринимателя больше, тем для него хуже)."
   ]
  }
 ],
 "metadata": {
  "kernelspec": {
   "display_name": "Python 3",
   "language": "python",
   "name": "python3"
  },
  "language_info": {
   "codemirror_mode": {
    "name": "ipython",
    "version": 3
   },
   "file_extension": ".py",
   "mimetype": "text/x-python",
   "name": "python",
   "nbconvert_exporter": "python",
   "pygments_lexer": "ipython3",
   "version": "3.8.5"
  }
 },
 "nbformat": 4,
 "nbformat_minor": 4
}
